{
 "nbformat": 4,
 "nbformat_minor": 2,
 "metadata": {
  "language_info": {
   "name": "python",
   "codemirror_mode": {
    "name": "ipython",
    "version": 3
   },
   "version": "3.7.3-final"
  },
  "orig_nbformat": 2,
  "file_extension": ".py",
  "mimetype": "text/x-python",
  "name": "python",
  "npconvert_exporter": "python",
  "pygments_lexer": "ipython3",
  "version": 3,
  "kernelspec": {
   "name": "python37364bitvenvvirtualenvc436fd5b00114d82a2706ed49e49c16c",
   "display_name": "Python 3.7.3 64-bit ('venv': virtualenv)"
  }
 },
 "cells": [
  {
   "cell_type": "code",
   "execution_count": 125,
   "metadata": {},
   "outputs": [],
   "source": [
    "import librosa\n",
    "import pyaudio\n",
    "import os,glob,pickle\n",
    "import soundfile\n",
    "from sklearn.model_selection import train_test_split\n",
    "from sklearn.neural_network import MLPClassifier\n",
    "from sklearn.metrics import accuracy_score \n",
    "import numpy as np"
   ]
  },
  {
   "cell_type": "code",
   "execution_count": 126,
   "metadata": {},
   "outputs": [],
   "source": [
    "def extract_feature(filename,mfcc,chroma,mel):\n",
    "    with soundfile.SoundFile(filename) as f:\n",
    "        X=f.read(dtype='float32')\n",
    "        print(X.shape)\n",
    "        sample_rate=f.samplerate\n",
    "        if chroma:\n",
    "            stft=np.abs(librosa.stft(X))\n",
    "        result=np.array([])\n",
    "        if mfcc:\n",
    "            mfccs=np.mean(librosa.feature.mfcc(y=X,sr=sample_rate,n_mfcc=40).T,axis=0)\n",
    "            result=np.hstack((result,mfcc))\n",
    "        if chroma:\n",
    "            chroma=np.mean(librosa.feature.chroma_stft(S=stft,sr=sample_rate).T,axis=0)\n",
    "            result=np.hstack((result,chroma))\n",
    "        if mel:\n",
    "            mel=np.mean(librosa.feature.melspectrogram(X,sr=sample_rate).T,axis=0)\n",
    "            result=np.hstack((result,mel)) \n",
    "    return result       \n",
    "\n",
    "\n",
    ""
   ]
  },
  {
   "cell_type": "code",
   "execution_count": 127,
   "metadata": {},
   "outputs": [],
   "source": [
    "emotions={\n",
    "  '01':'neutral',\n",
    "  '02':'calm',\n",
    "  '03':'happy',\n",
    "  '04':'sad',\n",
    "  '05':'angry',\n",
    "  '06':'fearful',\n",
    "  '07':'disgust',\n",
    "  '08':'surprised'\n",
    "}\n",
    "#DataFlair - Emotions to observe\n",
    "observed_emotions=['calm', 'happy', 'fearful', 'disgust']"
   ]
  },
  {
   "cell_type": "code",
   "execution_count": 128,
   "metadata": {},
   "outputs": [],
   "source": [
    "def load_data(test_size=0.2):\n",
    "    x=[]\n",
    "    y=[]\n",
    "    for file in glob.glob('F:\\\\download\\\\ravdess\\\\Actor_*\\\\*.wav'):\n",
    "        print('processing..........')\n",
    "        file_name=os.path.basename(file)\n",
    "        emotion=emotions[file_name.split('-')[2]]\n",
    "        if emotion not in observed_emotions:\n",
    "            continue\n",
    "        feature=extract_feature(file,mfcc=True,chroma=True,mel=True)\n",
    "        x.append(feature)\n",
    "        y.append(emotion)    \n",
    "    return train_test_split(np.array(x),y,test_size=test_size,random_state=42)    "
   ]
  },
  {
   "cell_type": "code",
   "execution_count": 129,
   "metadata": {
    "tags": [
     "outputPrepend",
     "outputPrepend",
     "outputPrepend",
     "outputPrepend",
     "outputPrepend",
     "outputPrepend",
     "outputPrepend",
     "outputPrepend",
     "outputPrepend",
     "outputPrepend",
     "outputPrepend",
     "outputPrepend",
     "outputPrepend",
     "outputPrepend",
     "outputPrepend",
     "outputPrepend",
     "outputPrepend",
     "outputPrepend",
     "outputPrepend",
     "outputPrepend",
     "outputPrepend",
     "outputPrepend",
     "outputPrepend",
     "outputPrepend",
     "outputPrepend",
     "outputPrepend",
     "outputPrepend",
     "outputPrepend",
     "outputPrepend",
     "outputPrepend",
     "outputPrepend",
     "outputPrepend",
     "outputPrepend",
     "outputPrepend",
     "outputPrepend",
     "outputPrepend",
     "outputPrepend",
     "outputPrepend",
     "outputPrepend",
     "outputPrepend",
     "outputPrepend",
     "outputPrepend",
     "outputPrepend",
     "outputPrepend",
     "outputPrepend",
     "outputPrepend",
     "outputPrepend",
     "outputPrepend",
     "outputPrepend",
     "outputPrepend",
     "outputPrepend",
     "outputPrepend",
     "outputPrepend",
     "outputPrepend",
     "outputPrepend",
     "outputPrepend",
     "outputPrepend",
     "outputPrepend",
     "outputPrepend",
     "outputPrepend",
     "outputPrepend",
     "outputPrepend",
     "outputPrepend",
     "outputPrepend",
     "outputPrepend",
     "outputPrepend",
     "outputPrepend",
     "outputPrepend",
     "outputPrepend",
     "outputPrepend",
     "outputPrepend",
     "outputPrepend",
     "outputPrepend",
     "outputPrepend",
     "outputPrepend",
     "outputPrepend",
     "outputPrepend",
     "outputPrepend",
     "outputPrepend",
     "outputPrepend",
     "outputPrepend",
     "outputPrepend",
     "outputPrepend",
     "outputPrepend",
     "outputPrepend",
     "outputPrepend",
     "outputPrepend",
     "outputPrepend",
     "outputPrepend",
     "outputPrepend",
     "outputPrepend",
     "outputPrepend",
     "outputPrepend",
     "outputPrepend",
     "outputPrepend",
     "outputPrepend",
     "outputPrepend",
     "outputPrepend",
     "outputPrepend",
     "outputPrepend",
     "outputPrepend",
     "outputPrepend",
     "outputPrepend",
     "outputPrepend",
     "outputPrepend",
     "outputPrepend",
     "outputPrepend",
     "outputPrepend",
     "outputPrepend",
     "outputPrepend",
     "outputPrepend",
     "outputPrepend",
     "outputPrepend",
     "outputPrepend",
     "outputPrepend",
     "outputPrepend",
     "outputPrepend",
     "outputPrepend",
     "outputPrepend",
     "outputPrepend",
     "outputPrepend",
     "outputPrepend",
     "outputPrepend",
     "outputPrepend",
     "outputPrepend",
     "outputPrepend",
     "outputPrepend",
     "outputPrepend",
     "outputPrepend",
     "outputPrepend",
     "outputPrepend",
     "outputPrepend",
     "outputPrepend",
     "outputPrepend",
     "outputPrepend",
     "outputPrepend",
     "outputPrepend",
     "outputPrepend",
     "outputPrepend",
     "outputPrepend"
    ]
   },
   "outputs": [
    {
     "output_type": "stream",
     "name": "stdout",
     "text": "..........\n(60327,)\nprocessing..........\n(60327,)\nprocessing..........\n(58725,)\nprocessing..........\n(63530,)\nprocessing..........\n(60327,)\nprocessing..........\n(59793,)\nprocessing..........\n(60861,)\nprocessing..........\n(59259,)\nprocessing..........\n(59793,)\nprocessing..........\n(56056,)\nprocessing..........\n(59793,)\nprocessing..........\n(67267,)\nprocessing..........\n(66199,)\nprocessing..........\n(62463,)\nprocessing..........\n(63530,)\nprocessing..........\nprocessing..........\nprocessing..........\nprocessing..........\nprocessing..........\nprocessing..........\nprocessing..........\nprocessing..........\nprocessing..........\nprocessing..........\nprocessing..........\nprocessing..........\nprocessing..........\nprocessing..........\nprocessing..........\nprocessing..........\nprocessing..........\n(54455,)\nprocessing..........\n(56056,)\nprocessing..........\n(53920,)\nprocessing..........\n(51251,)\nprocessing..........\n(59793,)\nprocessing..........\n(59259,)\nprocessing..........\n(55522,)\nprocessing..........\n(58725,)\nprocessing..........\n(59793,)\nprocessing..........\n(59259,)\nprocessing..........\n(57658,)\nprocessing..........\n(59259,)\nprocessing..........\n(63530,)\nprocessing..........\n(72606,)\nprocessing..........\n(67267,)\nprocessing..........\n(63530,)\nprocessing..........\nprocessing..........\nprocessing..........\nprocessing..........\nprocessing..........\nprocessing..........\nprocessing..........\nprocessing..........\nprocessing..........\nprocessing..........\nprocessing..........\nprocessing..........\nprocessing..........\n(52853,)\nprocessing..........\n(50717,)\nprocessing..........\n(50183,)\nprocessing..........\n(46980,)\nprocessing..........\n(50184,)\nprocessing..........\n(51251,)\nprocessing..........\n(48048,)\nprocessing..........\n(48582,)\nprocessing..........\n(51785,)\nprocessing..........\n(51251,)\nprocessing..........\n(50184,)\nprocessing..........\n(51251,)\nprocessing..........\n(54988,)\nprocessing..........\n(57658,)\nprocessing..........\n(53920,)\nprocessing..........\n(53387,)\nprocessing..........\nprocessing..........\nprocessing..........\nprocessing..........\nprocessing..........\nprocessing..........\nprocessing..........\nprocessing..........\nprocessing..........\nprocessing..........\nprocessing..........\nprocessing..........\nprocessing..........\nprocessing..........\nprocessing..........\nprocessing..........\nprocessing..........\n(50184,)\nprocessing..........\n(50717,)\nprocessing..........\n(51251,)\nprocessing..........\n(51785,)\nprocessing..........\n(53921,)\nprocessing..........\n(52319,)\nprocessing..........\n(56056,)\nprocessing..........\n(51251,)\nprocessing..........\n(50183,)\nprocessing..........\n(50717,)\nprocessing..........\n(52319,)\nprocessing..........\n(51785,)\nprocessing..........\n(54454,)\nprocessing..........\n(59259,)\nprocessing..........\n(54454,)\nprocessing..........\n(54988,)\nprocessing..........\nprocessing..........\nprocessing..........\nprocessing..........\nprocessing..........\nprocessing..........\nprocessing..........\nprocessing..........\nprocessing..........\nprocessing..........\nprocessing..........\nprocessing..........\nprocessing..........\n(59793,)\nprocessing..........\n(57124,)\nprocessing..........\n(54455,)\nprocessing..........\n(56056,)\nprocessing..........\n(61928,)\nprocessing..........\n(62462,)\nprocessing..........\n(59793,)\nprocessing..........\n(60327,)\nprocessing..........\n(59259,)\nprocessing..........\n(58725,)\nprocessing..........\n(54454,)\nprocessing..........\n(55522,)\nprocessing..........\n(60327,)\nprocessing..........\n(59793,)\nprocessing..........\n(61395,)\nprocessing..........\n(59793,)\nprocessing..........\nprocessing..........\nprocessing..........\nprocessing..........\nprocessing..........\nprocessing..........\nprocessing..........\nprocessing..........\nprocessing..........\nprocessing..........\nprocessing..........\nprocessing..........\nprocessing..........\nprocessing..........\nprocessing..........\nprocessing..........\nprocessing..........\n(53920,)\nprocessing..........\n(57124,)\nprocessing..........\n(53921,)\nprocessing..........\n(53920,)\nprocessing..........\n(53920,)\nprocessing..........\n(54454,)\nprocessing..........\n(56056,)\nprocessing..........\n(55522,)\nprocessing..........\n(60327,)\nprocessing..........\n(58191,)\nprocessing..........\n(59793,)\nprocessing..........\n(60327,)\nprocessing..........\n(62996,)\nprocessing..........\n(59793,)\nprocessing..........\n(58725,)\nprocessing..........\n(60861,)\nprocessing..........\nprocessing..........\nprocessing..........\nprocessing..........\nprocessing..........\nprocessing..........\nprocessing..........\nprocessing..........\nprocessing..........\nprocessing..........\nprocessing..........\nprocessing..........\nprocessing..........\n(57124,)\nprocessing..........\n(57124,)\nprocessing..........\n(59793,)\nprocessing..........\n(57124,)\nprocessing..........\n(58725,)\nprocessing..........\n(60861,)\nprocessing..........\n(62996,)\nprocessing..........\n(57657,)\nprocessing..........\n(54454,)\nprocessing..........\n(53387,)\nprocessing..........\n(53387,)\nprocessing..........\n(54988,)\nprocessing..........\n(57124,)\nprocessing..........\n(55522,)\nprocessing..........\n(60861,)\nprocessing..........\n(53921,)\nprocessing..........\nprocessing..........\nprocessing..........\nprocessing..........\nprocessing..........\nprocessing..........\nprocessing..........\nprocessing..........\nprocessing..........\nprocessing..........\nprocessing..........\nprocessing..........\nprocessing..........\nprocessing..........\nprocessing..........\nprocessing..........\nprocessing..........\n(52853,)\nprocessing..........\n(52853,)\nprocessing..........\n(52319,)\nprocessing..........\n(52853,)\nprocessing..........\n(53387,)\nprocessing..........\n(55522,)\nprocessing..........\n(53920,)\nprocessing..........\n(56056,)\nprocessing..........\n(59793,)\nprocessing..........\n(58191,)\nprocessing..........\n(58725,)\nprocessing..........\n(65132,)\nprocessing..........\n(59259,)\nprocessing..........\n(53921,)\nprocessing..........\n(52853,)\nprocessing..........\n(55522,)\nprocessing..........\nprocessing..........\nprocessing..........\nprocessing..........\nprocessing..........\nprocessing..........\nprocessing..........\nprocessing..........\nprocessing..........\nprocessing..........\nprocessing..........\nprocessing..........\nprocessing..........\n(59259,)\nprocessing..........\n(61928,)\nprocessing..........\n(60861,)\nprocessing..........\n(58725,)\nprocessing..........\n(61928,)\nprocessing..........\n(62996,)\nprocessing..........\n(60861,)\nprocessing..........\n(60861,)\nprocessing..........\n(59259,)\nprocessing..........\n(58725,)\nprocessing..........\n(59793,)\nprocessing..........\n(58725,)\nprocessing..........\n(60327,)\nprocessing..........\n(57124,)\nprocessing..........\n(60327,)\nprocessing..........\n(60861,)\nprocessing..........\nprocessing..........\nprocessing..........\nprocessing..........\nprocessing..........\nprocessing..........\nprocessing..........\nprocessing..........\nprocessing..........\nprocessing..........\nprocessing..........\nprocessing..........\nprocessing..........\nprocessing..........\nprocessing..........\nprocessing..........\nprocessing..........\n(59259,)\nprocessing..........\n(56056,)\nprocessing..........\n(58191,)\nprocessing..........\n(57124,)\nprocessing..........\n(59793,)\nprocessing..........\n(59793,)\nprocessing..........\n(56590,)\nprocessing..........\n(56056,)\nprocessing..........\n(60327,)\nprocessing..........\n(59793,)\nprocessing..........\n(55522,)\nprocessing..........\n(57124,)\nprocessing..........\n(68335,)\nprocessing..........\n(67801,)\nprocessing..........\n(66199,)\nprocessing..........\n(66200,)\nprocessing..........\nprocessing..........\nprocessing..........\nprocessing..........\nprocessing..........\nprocessing..........\nprocessing..........\nprocessing..........\nprocessing..........\nprocessing..........\nprocessing..........\nprocessing..........\nprocessing..........\n(56056,)\nprocessing..........\n(56590,)\nprocessing..........\n(59793,)\nprocessing..........\n(60327,)\nprocessing..........\n(61929,)\nprocessing..........\n(57658,)\nprocessing..........\n(61395,)\nprocessing..........\n(56590,)\nprocessing..........\n(55522,)\nprocessing..........\n(56590,)\nprocessing..........\n(55522,)\nprocessing..........\n(56590,)\nprocessing..........\n(59793,)\nprocessing..........\n(65666,)\nprocessing..........\n(59793,)\nprocessing..........\n(60861,)\nprocessing..........\nprocessing..........\nprocessing..........\nprocessing..........\nprocessing..........\nprocessing..........\nprocessing..........\nprocessing..........\nprocessing..........\nprocessing..........\nprocessing..........\nprocessing..........\nprocessing..........\nprocessing..........\nprocessing..........\nprocessing..........\nprocessing..........\n(55522,)\nprocessing..........\n(56056,)\nprocessing..........\n(56590,)\nprocessing..........\n(58191,)\nprocessing..........\n(59259,)\nprocessing..........\n(59793,)\nprocessing..........\n(58725,)\nprocessing..........\n(61395,)\nprocessing..........\n(61395,)\nprocessing..........\n(59259,)\nprocessing..........\n(57124,)\nprocessing..........\n(56056,)\nprocessing..........\n(67267,)\nprocessing..........\n(66733,)\nprocessing..........\n(71538,)\nprocessing..........\n(73674,)\nprocessing..........\nprocessing..........\nprocessing..........\nprocessing..........\nprocessing..........\nprocessing..........\nprocessing..........\nprocessing..........\nprocessing..........\nprocessing..........\nprocessing..........\nprocessing..........\nprocessing..........\n(55522,)\nprocessing..........\n(54455,)\nprocessing..........\n(58192,)\nprocessing..........\n(56056,)\nprocessing..........\n(57658,)\nprocessing..........\n(57658,)\nprocessing..........\n(57657,)\nprocessing..........\n(57658,)\nprocessing..........\n(54454,)\nprocessing..........\n(53920,)\nprocessing..........\n(54988,)\nprocessing..........\n(56056,)\nprocessing..........\n(60327,)\nprocessing..........\n(62996,)\nprocessing..........\n(60327,)\nprocessing..........\n(61395,)\nprocessing..........\nprocessing..........\nprocessing..........\nprocessing..........\nprocessing..........\nprocessing..........\nprocessing..........\nprocessing..........\nprocessing..........\nprocessing..........\nprocessing..........\nprocessing..........\nprocessing..........\nprocessing..........\nprocessing..........\nprocessing..........\nprocessing..........\n(54988,)\nprocessing..........\n(54454,)\nprocessing..........\n(55522,)\nprocessing..........\n(55522,)\nprocessing..........\n(59793,)\nprocessing..........\n(66733,)\nprocessing..........\n(60861,)\nprocessing..........\n(60861,)\nprocessing..........\n(68869,)\nprocessing..........\n(65132,)\nprocessing..........\n(58725,)\nprocessing..........\n(69937,)\nprocessing..........\n(76343,)\nprocessing..........\n(71538,)\nprocessing..........\n(74207,)\nprocessing..........\n(73140,)\nprocessing..........\nprocessing..........\nprocessing..........\nprocessing..........\nprocessing..........\nprocessing..........\nprocessing..........\nprocessing..........\nprocessing..........\nprocessing..........\nprocessing..........\nprocessing..........\nprocessing..........\n(58725,)\nprocessing..........\n(58725,)\nprocessing..........\n(53387,)\nprocessing..........\n(55522,)\nprocessing..........\n(71538,)\nprocessing..........\n(64598,)\nprocessing..........\n(73674,)\nprocessing..........\n(68869,)\nprocessing..........\n(58191,)\nprocessing..........\n(59259,)\nprocessing..........\n(52319,)\nprocessing..........\n(52853,)\nprocessing..........\n(60327,)\nprocessing..........\n(60861,)\nprocessing..........\n(70470,)\nprocessing..........\n(64064,)\nprocessing..........\nprocessing..........\nprocessing..........\nprocessing..........\nprocessing..........\nprocessing..........\nprocessing..........\nprocessing..........\nprocessing..........\nprocessing..........\nprocessing..........\nprocessing..........\nprocessing..........\nprocessing..........\nprocessing..........\nprocessing..........\nprocessing..........\n(59259,)\nprocessing..........\n(56056,)\nprocessing..........\n(60327,)\nprocessing..........\n(56590,)\nprocessing..........\n(61395,)\nprocessing..........\n(69936,)\nprocessing..........\n(57124,)\nprocessing..........\n(64598,)\nprocessing..........\n(68869,)\nprocessing..........\n(77411,)\nprocessing..........\n(66733,)\nprocessing..........\n(62996,)\nprocessing..........\n(76877,)\nprocessing..........\n(84351,)\nprocessing..........\n(78478,)\nprocessing..........\n(79012,)\nprocessing..........\nprocessing..........\nprocessing..........\nprocessing..........\nprocessing..........\nprocessing..........\nprocessing..........\nprocessing..........\nprocessing..........\nprocessing..........\nprocessing..........\nprocessing..........\nprocessing..........\n(58191,)\nprocessing..........\n(57124,)\nprocessing..........\n(53387,)\nprocessing..........\n(56056,)\nprocessing..........\n(61929,)\nprocessing..........\n(65132,)\nprocessing..........\n(58191,)\nprocessing..........\n(58192,)\nprocessing..........\n(56590,)\nprocessing..........\n(59259,)\nprocessing..........\n(55522,)\nprocessing..........\n(54454,)\nprocessing..........\n(58725,)\nprocessing..........\n(68869,)\nprocessing..........\n(57124,)\nprocessing..........\n(59259,)\nprocessing..........\nprocessing..........\nprocessing..........\nprocessing..........\nprocessing..........\nprocessing..........\nprocessing..........\nprocessing..........\nprocessing..........\nprocessing..........\nprocessing..........\nprocessing..........\nprocessing..........\nprocessing..........\nprocessing..........\nprocessing..........\nprocessing..........\n(60861,)\nprocessing..........\n(69936,)\nprocessing..........\n(62996,)\nprocessing..........\n(52853,)\nprocessing..........\n(67801,)\nprocessing..........\n(66733,)\nprocessing..........\n(61929,)\nprocessing..........\n(62463,)\nprocessing..........\n(61928,)\nprocessing..........\n(59793,)\nprocessing..........\n(58191,)\nprocessing..........\n(61395,)\nprocessing..........\n(65666,)\nprocessing..........\n(65665,)\nprocessing..........\n(75809,)\nprocessing..........\n(61928,)\nprocessing..........\nprocessing..........\nprocessing..........\nprocessing..........\nprocessing..........\nprocessing..........\nprocessing..........\nprocessing..........\nprocessing..........\nprocessing..........\nprocessing..........\nprocessing..........\nprocessing..........\n(64598,)\nprocessing..........\n(64064,)\nprocessing..........\n(60861,)\nprocessing..........\n(65132,)\nprocessing..........\n(64064,)\nprocessing..........\n(66733,)\nprocessing..........\n(66200,)\nprocessing..........\n(63530,)\nprocessing..........\n(61395,)\nprocessing..........\n(60861,)\nprocessing..........\n(59259,)\nprocessing..........\n(61395,)\nprocessing..........\n(60861,)\nprocessing..........\n(62996,)\nprocessing..........\n(58725,)\nprocessing..........\n(60861,)\nprocessing..........\nprocessing..........\nprocessing..........\nprocessing..........\nprocessing..........\nprocessing..........\nprocessing..........\nprocessing..........\nprocessing..........\nprocessing..........\nprocessing..........\nprocessing..........\nprocessing..........\nprocessing..........\nprocessing..........\nprocessing..........\nprocessing..........\n(58725,)\nprocessing..........\n(60327,)\nprocessing..........\n(63530,)\nprocessing..........\n(65132,)\nprocessing..........\n(63530,)\nprocessing..........\n(61395,)\nprocessing..........\n(60327,)\nprocessing..........\n(58191,)\nprocessing..........\n(60861,)\nprocessing..........\n(65132,)\nprocessing..........\n(58192,)\nprocessing..........\n(57658,)\nprocessing..........\n(65132,)\nprocessing..........\n(64598,)\nprocessing..........\n(66733,)\nprocessing..........\n(63530,)\nprocessing..........\nprocessing..........\nprocessing..........\nprocessing..........\nprocessing..........\nprocessing..........\nprocessing..........\nprocessing..........\nprocessing..........\nprocessing..........\nprocessing..........\nprocessing..........\nprocessing..........\n(56590,)\nprocessing..........\n(57124,)\nprocessing..........\n(57124,)\nprocessing..........\n(56590,)\nprocessing..........\n(59259,)\nprocessing..........\n(61395,)\nprocessing..........\n(58191,)\nprocessing..........\n(60327,)\nprocessing..........\n(56590,)\nprocessing..........\n(54988,)\nprocessing..........\n(56056,)\nprocessing..........\n(56056,)\nprocessing..........\n(59793,)\nprocessing..........\n(61395,)\nprocessing..........\n(58725,)\nprocessing..........\n(62996,)\nprocessing..........\nprocessing..........\nprocessing..........\nprocessing..........\nprocessing..........\nprocessing..........\nprocessing..........\nprocessing..........\nprocessing..........\nprocessing..........\nprocessing..........\nprocessing..........\nprocessing..........\nprocessing..........\nprocessing..........\nprocessing..........\nprocessing..........\n(57124,)\nprocessing..........\n(57658,)\nprocessing..........\n(58725,)\nprocessing..........\n(56590,)\nprocessing..........\n(57124,)\nprocessing..........\n(57124,)\nprocessing..........\n(58725,)\nprocessing..........\n(57658,)\nprocessing..........\n(59259,)\nprocessing..........\n(62462,)\nprocessing..........\n(60861,)\nprocessing..........\n(61395,)\nprocessing..........\n(67801,)\nprocessing..........\n(66733,)\nprocessing..........\n(67267,)\nprocessing..........\n(65665,)\nprocessing..........\nprocessing..........\nprocessing..........\nprocessing..........\nprocessing..........\nprocessing..........\nprocessing..........\nprocessing..........\nprocessing..........\nprocessing..........\nprocessing..........\nprocessing..........\nprocessing..........\n(63530,)\nprocessing..........\n(65132,)\nprocessing..........\n(66733,)\nprocessing..........\n(64064,)\nprocessing..........\n(73674,)\nprocessing..........\n(73673,)\nprocessing..........\n(65666,)\nprocessing..........\n(73140,)\nprocessing..........\n(53387,)\nprocessing..........\n(52319,)\nprocessing..........\n(51785,)\nprocessing..........\n(52319,)\nprocessing..........\n(51785,)\nprocessing..........\n(51251,)\nprocessing..........\n(51785,)\nprocessing..........\n(51785,)\nprocessing..........\nprocessing..........\nprocessing..........\nprocessing..........\nprocessing..........\nprocessing..........\nprocessing..........\nprocessing..........\nprocessing..........\nprocessing..........\nprocessing..........\nprocessing..........\nprocessing..........\nprocessing..........\nprocessing..........\nprocessing..........\nprocessing..........\n(54988,)\nprocessing..........\n(51785,)\nprocessing..........\n(50183,)\nprocessing..........\n(49650,)\nprocessing..........\n(57124,)\nprocessing..........\n(54988,)\nprocessing..........\n(57124,)\nprocessing..........\n(56590,)\nprocessing..........\n(57124,)\nprocessing..........\n(57124,)\nprocessing..........\n(55522,)\nprocessing..........\n(53387,)\nprocessing..........\n(65132,)\nprocessing..........\n(61928,)\nprocessing..........\n(59793,)\nprocessing..........\n(61928,)\nprocessing..........\nprocessing..........\nprocessing..........\nprocessing..........\nprocessing..........\nprocessing..........\nprocessing..........\nprocessing..........\nprocessing..........\nprocessing..........\nprocessing..........\nprocessing..........\nprocessing..........\n(57124,)\nprocessing..........\n(56056,)\nprocessing..........\n(61929,)\nprocessing..........\n(59259,)\nprocessing..........\n(65666,)\nprocessing..........\n(65132,)\nprocessing..........\n(64598,)\nprocessing..........\n(65666,)\nprocessing..........\n(57658,)\nprocessing..........\n(62462,)\nprocessing..........\n(56056,)\nprocessing..........\n(59793,)\nprocessing..........\n(64064,)\nprocessing..........\n(60327,)\nprocessing..........\n(61929,)\nprocessing..........\n(61929,)\nprocessing..........\nprocessing..........\nprocessing..........\nprocessing..........\nprocessing..........\nprocessing..........\nprocessing..........\nprocessing..........\nprocessing..........\nprocessing..........\nprocessing..........\nprocessing..........\nprocessing..........\nprocessing..........\nprocessing..........\nprocessing..........\nprocessing..........\n(65666,)\nprocessing..........\n(65132,)\nprocessing..........\n(62996,)\nprocessing..........\n(64064,)\nprocessing..........\n(61395,)\nprocessing..........\n(65132,)\nprocessing..........\n(57657,)\nprocessing..........\n(61395,)\nprocessing..........\n(68869,)\nprocessing..........\n(65666,)\nprocessing..........\n(64064,)\nprocessing..........\n(65132,)\nprocessing..........\n(69403,)\nprocessing..........\n(74207,)\nprocessing..........\n(67801,)\nprocessing..........\n(71004,)\nprocessing..........\nprocessing..........\nprocessing..........\nprocessing..........\nprocessing..........\nprocessing..........\nprocessing..........\nprocessing..........\n"
    }
   ],
   "source": [
    "x_train,x_test,y_train,y_test=load_data(test_size=0.25)"
   ]
  },
  {
   "cell_type": "code",
   "execution_count": 132,
   "metadata": {},
   "outputs": [
    {
     "output_type": "stream",
     "name": "stdout",
     "text": "((576, 141), (192, 141))\n"
    }
   ],
   "source": [
    "print((x_train.shape, x_test.shape))"
   ]
  },
  {
   "cell_type": "code",
   "execution_count": 133,
   "metadata": {},
   "outputs": [
    {
     "output_type": "stream",
     "name": "stdout",
     "text": "Features extracted: 141\n"
    }
   ],
   "source": [
    "print(f'Features extracted: {x_train.shape[1]}')"
   ]
  },
  {
   "cell_type": "code",
   "execution_count": 134,
   "metadata": {},
   "outputs": [],
   "source": [
    "model=MLPClassifier(alpha=0.01, batch_size=32, epsilon=1e-08, hidden_layer_sizes=(300,), learning_rate='adaptive', max_iter=900)"
   ]
  },
  {
   "cell_type": "code",
   "execution_count": 135,
   "metadata": {},
   "outputs": [
    {
     "output_type": "execute_result",
     "data": {
      "text/plain": "MLPClassifier(activation='relu', alpha=0.01, batch_size=32, beta_1=0.9,\n              beta_2=0.999, early_stopping=False, epsilon=1e-08,\n              hidden_layer_sizes=(300,), learning_rate='adaptive',\n              learning_rate_init=0.001, max_fun=15000, max_iter=900,\n              momentum=0.9, n_iter_no_change=10, nesterovs_momentum=True,\n              power_t=0.5, random_state=None, shuffle=True, solver='adam',\n              tol=0.0001, validation_fraction=0.1, verbose=False,\n              warm_start=False)"
     },
     "metadata": {},
     "execution_count": 135
    }
   ],
   "source": [
    "model.fit(x_train,y_train)"
   ]
  },
  {
   "cell_type": "code",
   "execution_count": 136,
   "metadata": {},
   "outputs": [],
   "source": [
    "y_pred=model.predict(x_test)"
   ]
  },
  {
   "cell_type": "code",
   "execution_count": 137,
   "metadata": {},
   "outputs": [
    {
     "output_type": "stream",
     "name": "stdout",
     "text": "Accuracy: 54.17%\n"
    }
   ],
   "source": [
    "accuracy=accuracy_score(y_true=y_test, y_pred=y_pred)\n",
    "\n",
    "print(\"Accuracy: {:.2f}%\".format(accuracy*100))"
   ]
  },
  {
   "cell_type": "code",
   "execution_count": 138,
   "metadata": {},
   "outputs": [],
   "source": [
    "pickle.dump(model, open(\"mlp_classifier.model\", \"wb\"))"
   ]
  },
  {
   "cell_type": "code",
   "execution_count": 131,
   "metadata": {},
   "outputs": [
    {
     "output_type": "stream",
     "name": "stdout",
     "text": "(162816, 2)\n"
    },
    {
     "output_type": "error",
     "ename": "ParameterError",
     "evalue": "Invalid shape for monophonic audio: ndim=2, shape=(162816, 2)",
     "traceback": [
      "\u001b[1;31m---------------------------------------------------------------------------\u001b[0m",
      "\u001b[1;31mParameterError\u001b[0m                            Traceback (most recent call last)",
      "\u001b[1;32m<ipython-input-131-042f3d3c9e86>\u001b[0m in \u001b[0;36m<module>\u001b[1;34m\u001b[0m\n\u001b[0;32m      1\u001b[0m \u001b[0mfile\u001b[0m\u001b[1;33m=\u001b[0m\u001b[1;34m'Recording1.wav'\u001b[0m\u001b[1;33m\u001b[0m\u001b[1;33m\u001b[0m\u001b[0m\n\u001b[1;32m----> 2\u001b[1;33m \u001b[0mfeature\u001b[0m\u001b[1;33m=\u001b[0m\u001b[0mextract_feature\u001b[0m\u001b[1;33m(\u001b[0m\u001b[0mfile\u001b[0m\u001b[1;33m,\u001b[0m\u001b[0mmfcc\u001b[0m\u001b[1;33m=\u001b[0m\u001b[1;32mTrue\u001b[0m\u001b[1;33m,\u001b[0m\u001b[0mchroma\u001b[0m\u001b[1;33m=\u001b[0m\u001b[1;32mTrue\u001b[0m\u001b[1;33m,\u001b[0m\u001b[0mmel\u001b[0m\u001b[1;33m=\u001b[0m\u001b[1;32mTrue\u001b[0m\u001b[1;33m)\u001b[0m\u001b[1;33m\u001b[0m\u001b[1;33m\u001b[0m\u001b[0m\n\u001b[0m",
      "\u001b[1;32m<ipython-input-126-be0372b01e22>\u001b[0m in \u001b[0;36mextract_feature\u001b[1;34m(filename, mfcc, chroma, mel)\u001b[0m\n\u001b[0;32m      5\u001b[0m         \u001b[0msample_rate\u001b[0m\u001b[1;33m=\u001b[0m\u001b[0mf\u001b[0m\u001b[1;33m.\u001b[0m\u001b[0msamplerate\u001b[0m\u001b[1;33m\u001b[0m\u001b[1;33m\u001b[0m\u001b[0m\n\u001b[0;32m      6\u001b[0m         \u001b[1;32mif\u001b[0m \u001b[0mchroma\u001b[0m\u001b[1;33m:\u001b[0m\u001b[1;33m\u001b[0m\u001b[1;33m\u001b[0m\u001b[0m\n\u001b[1;32m----> 7\u001b[1;33m             \u001b[0mstft\u001b[0m\u001b[1;33m=\u001b[0m\u001b[0mnp\u001b[0m\u001b[1;33m.\u001b[0m\u001b[0mabs\u001b[0m\u001b[1;33m(\u001b[0m\u001b[0mlibrosa\u001b[0m\u001b[1;33m.\u001b[0m\u001b[0mstft\u001b[0m\u001b[1;33m(\u001b[0m\u001b[0mX\u001b[0m\u001b[1;33m)\u001b[0m\u001b[1;33m)\u001b[0m\u001b[1;33m\u001b[0m\u001b[1;33m\u001b[0m\u001b[0m\n\u001b[0m\u001b[0;32m      8\u001b[0m         \u001b[0mresult\u001b[0m\u001b[1;33m=\u001b[0m\u001b[0mnp\u001b[0m\u001b[1;33m.\u001b[0m\u001b[0marray\u001b[0m\u001b[1;33m(\u001b[0m\u001b[1;33m[\u001b[0m\u001b[1;33m]\u001b[0m\u001b[1;33m)\u001b[0m\u001b[1;33m\u001b[0m\u001b[1;33m\u001b[0m\u001b[0m\n\u001b[0;32m      9\u001b[0m         \u001b[1;32mif\u001b[0m \u001b[0mmfcc\u001b[0m\u001b[1;33m:\u001b[0m\u001b[1;33m\u001b[0m\u001b[1;33m\u001b[0m\u001b[0m\n",
      "\u001b[1;32mc:\\Users\\Hritesh\\PycharmProjects\\chatbot\\venv\\lib\\site-packages\\librosa\\core\\spectrum.py\u001b[0m in \u001b[0;36mstft\u001b[1;34m(y, n_fft, hop_length, win_length, window, center, dtype, pad_mode)\u001b[0m\n\u001b[0;32m    213\u001b[0m \u001b[1;33m\u001b[0m\u001b[0m\n\u001b[0;32m    214\u001b[0m     \u001b[1;31m# Check audio is valid\u001b[0m\u001b[1;33m\u001b[0m\u001b[1;33m\u001b[0m\u001b[1;33m\u001b[0m\u001b[0m\n\u001b[1;32m--> 215\u001b[1;33m     \u001b[0mutil\u001b[0m\u001b[1;33m.\u001b[0m\u001b[0mvalid_audio\u001b[0m\u001b[1;33m(\u001b[0m\u001b[0my\u001b[0m\u001b[1;33m)\u001b[0m\u001b[1;33m\u001b[0m\u001b[1;33m\u001b[0m\u001b[0m\n\u001b[0m\u001b[0;32m    216\u001b[0m \u001b[1;33m\u001b[0m\u001b[0m\n\u001b[0;32m    217\u001b[0m     \u001b[1;31m# Pad the time series so that frames are centered\u001b[0m\u001b[1;33m\u001b[0m\u001b[1;33m\u001b[0m\u001b[1;33m\u001b[0m\u001b[0m\n",
      "\u001b[1;32mc:\\Users\\Hritesh\\PycharmProjects\\chatbot\\venv\\lib\\site-packages\\librosa\\util\\utils.py\u001b[0m in \u001b[0;36mvalid_audio\u001b[1;34m(y, mono)\u001b[0m\n\u001b[0;32m    266\u001b[0m     \u001b[1;32mif\u001b[0m \u001b[0mmono\u001b[0m \u001b[1;32mand\u001b[0m \u001b[0my\u001b[0m\u001b[1;33m.\u001b[0m\u001b[0mndim\u001b[0m \u001b[1;33m!=\u001b[0m \u001b[1;36m1\u001b[0m\u001b[1;33m:\u001b[0m\u001b[1;33m\u001b[0m\u001b[1;33m\u001b[0m\u001b[0m\n\u001b[0;32m    267\u001b[0m         raise ParameterError('Invalid shape for monophonic audio: '\n\u001b[1;32m--> 268\u001b[1;33m                              'ndim={:d}, shape={}'.format(y.ndim, y.shape))\n\u001b[0m\u001b[0;32m    269\u001b[0m \u001b[1;33m\u001b[0m\u001b[0m\n\u001b[0;32m    270\u001b[0m     \u001b[1;32melif\u001b[0m \u001b[0my\u001b[0m\u001b[1;33m.\u001b[0m\u001b[0mndim\u001b[0m \u001b[1;33m>\u001b[0m \u001b[1;36m2\u001b[0m \u001b[1;32mor\u001b[0m \u001b[0my\u001b[0m\u001b[1;33m.\u001b[0m\u001b[0mndim\u001b[0m \u001b[1;33m==\u001b[0m \u001b[1;36m0\u001b[0m\u001b[1;33m:\u001b[0m\u001b[1;33m\u001b[0m\u001b[1;33m\u001b[0m\u001b[0m\n",
      "\u001b[1;31mParameterError\u001b[0m: Invalid shape for monophonic audio: ndim=2, shape=(162816, 2)"
     ]
    }
   ],
   "source": [
    "file='Recording1.wav'\n",
    "feature=extract_feature(file,mfcc=True,chroma=True,mel=True)"
   ]
  },
  {
   "cell_type": "code",
   "execution_count": 120,
   "metadata": {},
   "outputs": [
    {
     "output_type": "execute_result",
     "data": {
      "text/plain": "array(['calm'], dtype='<U7')"
     },
     "metadata": {},
     "execution_count": 120
    }
   ],
   "source": [
    "model.predict(feature.reshape(1,-1))"
   ]
  },
  {
   "cell_type": "code",
   "execution_count": null,
   "metadata": {},
   "outputs": [],
   "source": []
  }
 ]
}